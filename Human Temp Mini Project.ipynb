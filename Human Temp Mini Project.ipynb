{
 "cells": [
  {
   "cell_type": "markdown",
   "metadata": {},
   "source": [
    "# What is the True Normal Human Body Temperature? \n",
    "\n",
    "#### Background\n",
    "\n",
    "The mean normal body temperature was held to be 37$^{\\circ}$C or 98.6$^{\\circ}$F for more than 120 years since it was first conceptualized and reported by Carl Wunderlich in a famous 1868 book. But, is this value statistically correct?"
   ]
  },
  {
   "cell_type": "markdown",
   "metadata": {},
   "source": [
    "<h3>Exercises</h3>\n",
    "\n",
    "<p>In this exercise, you will analyze a dataset of human body temperatures and employ the concepts of hypothesis testing, confidence intervals, and statistical significance.</p>\n",
    "\n",
    "<p>Answer the following questions <b>in this notebook below and submit to your Github account</b>.</p> \n",
    "\n",
    "<ol>\n",
    "<li>  Is the distribution of body temperatures normal? \n",
    "    <ul>\n",
    "    <li> Although this is not a requirement for CLT to hold (read CLT carefully), it gives us some peace of mind that the population may also be normally distributed if we assume that this sample is representative of the population.\n",
    "    </ul>\n",
    "<li>  Is the sample size large? Are the observations independent?\n",
    "    <ul>\n",
    "    <li> Remember that this is a condition for the CLT, and hence the statistical tests we are using, to apply.\n",
    "    </ul>\n",
    "<li>  Is the true population mean really 98.6 degrees F?\n",
    "    <ul>\n",
    "    <li> Would you use a one-sample or two-sample test? Why?\n",
    "    <li> In this situation, is it appropriate to use the $t$ or $z$ statistic? \n",
    "    <li> Now try using the other test. How is the result be different? Why?\n",
    "    </ul>\n",
    "<li>  Draw a small sample of size 10 from the data and repeat both tests. \n",
    "    <ul>\n",
    "    <li> Which one is the correct one to use? \n",
    "    <li> What do you notice? What does this tell you about the difference in application of the $t$ and $z$ statistic?\n",
    "    </ul>\n",
    "<li>  At what temperature should we consider someone's temperature to be \"abnormal\"?\n",
    "    <ul>\n",
    "    <li> Start by computing the margin of error and confidence interval.\n",
    "    </ul>\n",
    "<li>  Is there a significant difference between males and females in normal temperature?\n",
    "    <ul>\n",
    "    <li> What test did you use and why?\n",
    "    <li> Write a story with your conclusion in the context of the original problem.\n",
    "    </ul>\n",
    "</ol>\n",
    "\n",
    "You can include written notes in notebook cells using Markdown: \n",
    "   - In the control panel at the top, choose Cell > Cell Type > Markdown\n",
    "   - Markdown syntax: http://nestacms.com/docs/creating-content/markdown-cheat-sheet\n",
    "\n",
    "#### Resources\n",
    "\n",
    "+ Information and data sources: http://www.amstat.org/publications/jse/datasets/normtemp.txt, http://www.amstat.org/publications/jse/jse_data_archive.htm\n",
    "+ Markdown syntax: http://nestacms.com/docs/creating-content/markdown-cheat-sheet\n",
    "\n",
    "****"
   ]
  },
  {
   "cell_type": "code",
   "execution_count": 1,
   "metadata": {
    "collapsed": true
   },
   "outputs": [],
   "source": [
    "import pandas as pd\n",
    "import matplotlib.pyplot as plt\n",
    "import seaborn as sns\n",
    "import numpy as np\n",
    "import scipy.stats as stats"
   ]
  },
  {
   "cell_type": "code",
   "execution_count": 2,
   "metadata": {},
   "outputs": [
    {
     "data": {
      "text/html": [
       "<div>\n",
       "<style>\n",
       "    .dataframe thead tr:only-child th {\n",
       "        text-align: right;\n",
       "    }\n",
       "\n",
       "    .dataframe thead th {\n",
       "        text-align: left;\n",
       "    }\n",
       "\n",
       "    .dataframe tbody tr th {\n",
       "        vertical-align: top;\n",
       "    }\n",
       "</style>\n",
       "<table border=\"1\" class=\"dataframe\">\n",
       "  <thead>\n",
       "    <tr style=\"text-align: right;\">\n",
       "      <th></th>\n",
       "      <th>temperature</th>\n",
       "      <th>gender</th>\n",
       "      <th>heart_rate</th>\n",
       "    </tr>\n",
       "  </thead>\n",
       "  <tbody>\n",
       "    <tr>\n",
       "      <th>0</th>\n",
       "      <td>99.3</td>\n",
       "      <td>F</td>\n",
       "      <td>68.0</td>\n",
       "    </tr>\n",
       "    <tr>\n",
       "      <th>1</th>\n",
       "      <td>98.4</td>\n",
       "      <td>F</td>\n",
       "      <td>81.0</td>\n",
       "    </tr>\n",
       "    <tr>\n",
       "      <th>2</th>\n",
       "      <td>97.8</td>\n",
       "      <td>M</td>\n",
       "      <td>73.0</td>\n",
       "    </tr>\n",
       "    <tr>\n",
       "      <th>3</th>\n",
       "      <td>99.2</td>\n",
       "      <td>F</td>\n",
       "      <td>66.0</td>\n",
       "    </tr>\n",
       "    <tr>\n",
       "      <th>4</th>\n",
       "      <td>98.0</td>\n",
       "      <td>F</td>\n",
       "      <td>73.0</td>\n",
       "    </tr>\n",
       "    <tr>\n",
       "      <th>5</th>\n",
       "      <td>99.2</td>\n",
       "      <td>M</td>\n",
       "      <td>83.0</td>\n",
       "    </tr>\n",
       "    <tr>\n",
       "      <th>6</th>\n",
       "      <td>98.0</td>\n",
       "      <td>M</td>\n",
       "      <td>71.0</td>\n",
       "    </tr>\n",
       "    <tr>\n",
       "      <th>7</th>\n",
       "      <td>98.8</td>\n",
       "      <td>M</td>\n",
       "      <td>78.0</td>\n",
       "    </tr>\n",
       "    <tr>\n",
       "      <th>8</th>\n",
       "      <td>98.4</td>\n",
       "      <td>F</td>\n",
       "      <td>84.0</td>\n",
       "    </tr>\n",
       "    <tr>\n",
       "      <th>9</th>\n",
       "      <td>98.6</td>\n",
       "      <td>F</td>\n",
       "      <td>86.0</td>\n",
       "    </tr>\n",
       "    <tr>\n",
       "      <th>10</th>\n",
       "      <td>98.8</td>\n",
       "      <td>F</td>\n",
       "      <td>89.0</td>\n",
       "    </tr>\n",
       "    <tr>\n",
       "      <th>11</th>\n",
       "      <td>96.7</td>\n",
       "      <td>F</td>\n",
       "      <td>62.0</td>\n",
       "    </tr>\n",
       "    <tr>\n",
       "      <th>12</th>\n",
       "      <td>98.2</td>\n",
       "      <td>M</td>\n",
       "      <td>72.0</td>\n",
       "    </tr>\n",
       "    <tr>\n",
       "      <th>13</th>\n",
       "      <td>98.7</td>\n",
       "      <td>F</td>\n",
       "      <td>79.0</td>\n",
       "    </tr>\n",
       "    <tr>\n",
       "      <th>14</th>\n",
       "      <td>97.8</td>\n",
       "      <td>F</td>\n",
       "      <td>77.0</td>\n",
       "    </tr>\n",
       "    <tr>\n",
       "      <th>15</th>\n",
       "      <td>98.8</td>\n",
       "      <td>F</td>\n",
       "      <td>83.0</td>\n",
       "    </tr>\n",
       "    <tr>\n",
       "      <th>16</th>\n",
       "      <td>98.3</td>\n",
       "      <td>F</td>\n",
       "      <td>79.0</td>\n",
       "    </tr>\n",
       "    <tr>\n",
       "      <th>17</th>\n",
       "      <td>98.2</td>\n",
       "      <td>M</td>\n",
       "      <td>64.0</td>\n",
       "    </tr>\n",
       "    <tr>\n",
       "      <th>18</th>\n",
       "      <td>97.2</td>\n",
       "      <td>F</td>\n",
       "      <td>68.0</td>\n",
       "    </tr>\n",
       "    <tr>\n",
       "      <th>19</th>\n",
       "      <td>99.4</td>\n",
       "      <td>M</td>\n",
       "      <td>70.0</td>\n",
       "    </tr>\n",
       "    <tr>\n",
       "      <th>20</th>\n",
       "      <td>98.3</td>\n",
       "      <td>F</td>\n",
       "      <td>78.0</td>\n",
       "    </tr>\n",
       "    <tr>\n",
       "      <th>21</th>\n",
       "      <td>98.2</td>\n",
       "      <td>M</td>\n",
       "      <td>71.0</td>\n",
       "    </tr>\n",
       "    <tr>\n",
       "      <th>22</th>\n",
       "      <td>98.6</td>\n",
       "      <td>M</td>\n",
       "      <td>70.0</td>\n",
       "    </tr>\n",
       "    <tr>\n",
       "      <th>23</th>\n",
       "      <td>98.4</td>\n",
       "      <td>M</td>\n",
       "      <td>68.0</td>\n",
       "    </tr>\n",
       "    <tr>\n",
       "      <th>24</th>\n",
       "      <td>97.8</td>\n",
       "      <td>M</td>\n",
       "      <td>65.0</td>\n",
       "    </tr>\n",
       "    <tr>\n",
       "      <th>25</th>\n",
       "      <td>98.0</td>\n",
       "      <td>F</td>\n",
       "      <td>87.0</td>\n",
       "    </tr>\n",
       "    <tr>\n",
       "      <th>26</th>\n",
       "      <td>97.8</td>\n",
       "      <td>F</td>\n",
       "      <td>62.0</td>\n",
       "    </tr>\n",
       "    <tr>\n",
       "      <th>27</th>\n",
       "      <td>98.2</td>\n",
       "      <td>F</td>\n",
       "      <td>69.0</td>\n",
       "    </tr>\n",
       "    <tr>\n",
       "      <th>28</th>\n",
       "      <td>98.4</td>\n",
       "      <td>F</td>\n",
       "      <td>73.0</td>\n",
       "    </tr>\n",
       "    <tr>\n",
       "      <th>29</th>\n",
       "      <td>98.1</td>\n",
       "      <td>M</td>\n",
       "      <td>67.0</td>\n",
       "    </tr>\n",
       "    <tr>\n",
       "      <th>...</th>\n",
       "      <td>...</td>\n",
       "      <td>...</td>\n",
       "      <td>...</td>\n",
       "    </tr>\n",
       "    <tr>\n",
       "      <th>100</th>\n",
       "      <td>99.0</td>\n",
       "      <td>M</td>\n",
       "      <td>81.0</td>\n",
       "    </tr>\n",
       "    <tr>\n",
       "      <th>101</th>\n",
       "      <td>98.5</td>\n",
       "      <td>M</td>\n",
       "      <td>68.0</td>\n",
       "    </tr>\n",
       "    <tr>\n",
       "      <th>102</th>\n",
       "      <td>98.0</td>\n",
       "      <td>F</td>\n",
       "      <td>78.0</td>\n",
       "    </tr>\n",
       "    <tr>\n",
       "      <th>103</th>\n",
       "      <td>99.4</td>\n",
       "      <td>F</td>\n",
       "      <td>77.0</td>\n",
       "    </tr>\n",
       "    <tr>\n",
       "      <th>104</th>\n",
       "      <td>97.6</td>\n",
       "      <td>M</td>\n",
       "      <td>69.0</td>\n",
       "    </tr>\n",
       "    <tr>\n",
       "      <th>105</th>\n",
       "      <td>96.7</td>\n",
       "      <td>M</td>\n",
       "      <td>71.0</td>\n",
       "    </tr>\n",
       "    <tr>\n",
       "      <th>106</th>\n",
       "      <td>97.0</td>\n",
       "      <td>M</td>\n",
       "      <td>80.0</td>\n",
       "    </tr>\n",
       "    <tr>\n",
       "      <th>107</th>\n",
       "      <td>98.6</td>\n",
       "      <td>M</td>\n",
       "      <td>66.0</td>\n",
       "    </tr>\n",
       "    <tr>\n",
       "      <th>108</th>\n",
       "      <td>98.7</td>\n",
       "      <td>F</td>\n",
       "      <td>72.0</td>\n",
       "    </tr>\n",
       "    <tr>\n",
       "      <th>109</th>\n",
       "      <td>97.3</td>\n",
       "      <td>M</td>\n",
       "      <td>69.0</td>\n",
       "    </tr>\n",
       "    <tr>\n",
       "      <th>110</th>\n",
       "      <td>98.8</td>\n",
       "      <td>F</td>\n",
       "      <td>69.0</td>\n",
       "    </tr>\n",
       "    <tr>\n",
       "      <th>111</th>\n",
       "      <td>98.0</td>\n",
       "      <td>F</td>\n",
       "      <td>89.0</td>\n",
       "    </tr>\n",
       "    <tr>\n",
       "      <th>112</th>\n",
       "      <td>98.2</td>\n",
       "      <td>F</td>\n",
       "      <td>64.0</td>\n",
       "    </tr>\n",
       "    <tr>\n",
       "      <th>113</th>\n",
       "      <td>99.1</td>\n",
       "      <td>F</td>\n",
       "      <td>74.0</td>\n",
       "    </tr>\n",
       "    <tr>\n",
       "      <th>114</th>\n",
       "      <td>99.0</td>\n",
       "      <td>M</td>\n",
       "      <td>79.0</td>\n",
       "    </tr>\n",
       "    <tr>\n",
       "      <th>115</th>\n",
       "      <td>98.0</td>\n",
       "      <td>M</td>\n",
       "      <td>64.0</td>\n",
       "    </tr>\n",
       "    <tr>\n",
       "      <th>116</th>\n",
       "      <td>100.8</td>\n",
       "      <td>F</td>\n",
       "      <td>77.0</td>\n",
       "    </tr>\n",
       "    <tr>\n",
       "      <th>117</th>\n",
       "      <td>97.8</td>\n",
       "      <td>F</td>\n",
       "      <td>71.0</td>\n",
       "    </tr>\n",
       "    <tr>\n",
       "      <th>118</th>\n",
       "      <td>98.7</td>\n",
       "      <td>M</td>\n",
       "      <td>78.0</td>\n",
       "    </tr>\n",
       "    <tr>\n",
       "      <th>119</th>\n",
       "      <td>98.4</td>\n",
       "      <td>F</td>\n",
       "      <td>74.0</td>\n",
       "    </tr>\n",
       "    <tr>\n",
       "      <th>120</th>\n",
       "      <td>97.7</td>\n",
       "      <td>F</td>\n",
       "      <td>84.0</td>\n",
       "    </tr>\n",
       "    <tr>\n",
       "      <th>121</th>\n",
       "      <td>97.9</td>\n",
       "      <td>F</td>\n",
       "      <td>68.0</td>\n",
       "    </tr>\n",
       "    <tr>\n",
       "      <th>122</th>\n",
       "      <td>99.0</td>\n",
       "      <td>F</td>\n",
       "      <td>81.0</td>\n",
       "    </tr>\n",
       "    <tr>\n",
       "      <th>123</th>\n",
       "      <td>97.2</td>\n",
       "      <td>F</td>\n",
       "      <td>66.0</td>\n",
       "    </tr>\n",
       "    <tr>\n",
       "      <th>124</th>\n",
       "      <td>97.5</td>\n",
       "      <td>M</td>\n",
       "      <td>75.0</td>\n",
       "    </tr>\n",
       "    <tr>\n",
       "      <th>125</th>\n",
       "      <td>96.3</td>\n",
       "      <td>M</td>\n",
       "      <td>70.0</td>\n",
       "    </tr>\n",
       "    <tr>\n",
       "      <th>126</th>\n",
       "      <td>97.7</td>\n",
       "      <td>M</td>\n",
       "      <td>77.0</td>\n",
       "    </tr>\n",
       "    <tr>\n",
       "      <th>127</th>\n",
       "      <td>98.2</td>\n",
       "      <td>F</td>\n",
       "      <td>73.0</td>\n",
       "    </tr>\n",
       "    <tr>\n",
       "      <th>128</th>\n",
       "      <td>97.9</td>\n",
       "      <td>M</td>\n",
       "      <td>72.0</td>\n",
       "    </tr>\n",
       "    <tr>\n",
       "      <th>129</th>\n",
       "      <td>98.7</td>\n",
       "      <td>F</td>\n",
       "      <td>59.0</td>\n",
       "    </tr>\n",
       "  </tbody>\n",
       "</table>\n",
       "<p>130 rows × 3 columns</p>\n",
       "</div>"
      ],
      "text/plain": [
       "     temperature gender  heart_rate\n",
       "0           99.3      F        68.0\n",
       "1           98.4      F        81.0\n",
       "2           97.8      M        73.0\n",
       "3           99.2      F        66.0\n",
       "4           98.0      F        73.0\n",
       "5           99.2      M        83.0\n",
       "6           98.0      M        71.0\n",
       "7           98.8      M        78.0\n",
       "8           98.4      F        84.0\n",
       "9           98.6      F        86.0\n",
       "10          98.8      F        89.0\n",
       "11          96.7      F        62.0\n",
       "12          98.2      M        72.0\n",
       "13          98.7      F        79.0\n",
       "14          97.8      F        77.0\n",
       "15          98.8      F        83.0\n",
       "16          98.3      F        79.0\n",
       "17          98.2      M        64.0\n",
       "18          97.2      F        68.0\n",
       "19          99.4      M        70.0\n",
       "20          98.3      F        78.0\n",
       "21          98.2      M        71.0\n",
       "22          98.6      M        70.0\n",
       "23          98.4      M        68.0\n",
       "24          97.8      M        65.0\n",
       "25          98.0      F        87.0\n",
       "26          97.8      F        62.0\n",
       "27          98.2      F        69.0\n",
       "28          98.4      F        73.0\n",
       "29          98.1      M        67.0\n",
       "..           ...    ...         ...\n",
       "100         99.0      M        81.0\n",
       "101         98.5      M        68.0\n",
       "102         98.0      F        78.0\n",
       "103         99.4      F        77.0\n",
       "104         97.6      M        69.0\n",
       "105         96.7      M        71.0\n",
       "106         97.0      M        80.0\n",
       "107         98.6      M        66.0\n",
       "108         98.7      F        72.0\n",
       "109         97.3      M        69.0\n",
       "110         98.8      F        69.0\n",
       "111         98.0      F        89.0\n",
       "112         98.2      F        64.0\n",
       "113         99.1      F        74.0\n",
       "114         99.0      M        79.0\n",
       "115         98.0      M        64.0\n",
       "116        100.8      F        77.0\n",
       "117         97.8      F        71.0\n",
       "118         98.7      M        78.0\n",
       "119         98.4      F        74.0\n",
       "120         97.7      F        84.0\n",
       "121         97.9      F        68.0\n",
       "122         99.0      F        81.0\n",
       "123         97.2      F        66.0\n",
       "124         97.5      M        75.0\n",
       "125         96.3      M        70.0\n",
       "126         97.7      M        77.0\n",
       "127         98.2      F        73.0\n",
       "128         97.9      M        72.0\n",
       "129         98.7      F        59.0\n",
       "\n",
       "[130 rows x 3 columns]"
      ]
     },
     "execution_count": 2,
     "metadata": {},
     "output_type": "execute_result"
    }
   ],
   "source": [
    "df = pd.read_csv(r'C:\\Users\\eshai\\Downloads\\human_temp\\data\\human_body_temperature.csv')\n",
    "\n",
    "df"
   ]
  },
  {
   "cell_type": "markdown",
   "metadata": {},
   "source": [
    "### Is the distribution of body temperatures normal? "
   ]
  },
  {
   "cell_type": "code",
   "execution_count": 3,
   "metadata": {},
   "outputs": [
    {
     "data": {
      "image/png": "[encoded data removed]",
      "text/plain": [
       "<matplotlib.figure.Figure at 0x1e893a759e8>"
      ]
     },
     "metadata": {},
     "output_type": "display_data"
    }
   ],
   "source": [
    "temps = df['temperature']\n",
    "\n",
    "n_bins = len(temps)\n",
    "\n",
    "bins = np.sqrt(n_bins)\n",
    "\n",
    "bins = int(bins)\n",
    "\n",
    "sns.set()\n",
    "plt.xlabel('Temperature')\n",
    "plt.ylabel('Count')\n",
    "plt.hist(temps)\n",
    "\n",
    "plt.show()"
   ]
  },
  {
   "cell_type": "markdown",
   "metadata": {},
   "source": [
    "The chart shows the distribution of human temperature. We can tell that the distribution of temperatures is normal. Constructing an ecdf chart of human body temperature will give us a better look at the distribution."
   ]
  },
  {
   "cell_type": "code",
   "execution_count": 4,
   "metadata": {
    "collapsed": true
   },
   "outputs": [],
   "source": [
    "def ecdf(data):\n",
    "    \n",
    "    \n",
    "    n = len(data)\n",
    "    x = np.sort(data)\n",
    "    y = np.arange(1, n+1) / n\n",
    "    return x, y\n",
    "\n"
   ]
  },
  {
   "cell_type": "code",
   "execution_count": 5,
   "metadata": {},
   "outputs": [
    {
     "data": {
      "image/png": "[encoded data removed]",
      "text/plain": [
       "<matplotlib.figure.Figure at 0x1e893991d68>"
      ]
     },
     "metadata": {},
     "output_type": "display_data"
    }
   ],
   "source": [
    "x_temps, y_temps = ecdf(temps)\n",
    "\n",
    "temp_reps = np.random.normal(np.mean(temps), np.std(temps), size=10000)\n",
    "\n",
    "x_temp_reps, y_temp_reps = ecdf(temp_reps)\n",
    "\n",
    "_ = plt.plot( x_temps, y_temps, marker='.', linestyle= 'none', color='red')\n",
    "_ = plt.plot( x_temp_reps, y_temp_reps, color='blue')\n",
    "_ = plt.margins(.02)\n",
    "_ = plt.xlabel('temps')\n",
    "_ = plt.ylabel('ecdf')\n",
    "\n",
    "_ = plt.show()"
   ]
  },
  {
   "cell_type": "markdown",
   "metadata": {},
   "source": [
    "The graph above shows that the human temperture date is normally distributed."
   ]
  },
  {
   "cell_type": "markdown",
   "metadata": {},
   "source": [
    "### Is the sample size large? Are the observations independent?"
   ]
  },
  {
   "cell_type": "markdown",
   "metadata": {},
   "source": [
    "Based on CLT, the data set must contain more the 30 samples more the distribution on sample means to be normally distributed. Since the data set has 130 observations, the sample size is large enough. Each observation is independent of one another since the each observation doesnt depend on another one."
   ]
  },
  {
   "cell_type": "markdown",
   "metadata": {},
   "source": [
    "## Is the true population mean really 98.6 degrees F?\n",
    "- Would you use a one-sample or two-sample test? Why?\n",
    "- In this situation, is it appropriate to use the  tt  or  zz  statistic?\n",
    "- Now try using the other test. How is the result be different? Why?"
   ]
  },
  {
   "cell_type": "markdown",
   "metadata": {},
   "source": [
    "In order to verify if the true population is 98.6 degrees F, we must run a one sample test. The one sample test is appropriate here because we only have one sample set of data and have over 30 samples in the data set."
   ]
  },
  {
   "cell_type": "markdown",
   "metadata": {},
   "source": [
    "I will test:\n",
    "\n",
    "$H_{0}$: The sample mean and the population mean are equal.\n",
    "\n",
    "$H_{A}$: The sample mean and the population mean are different.\n"
   ]
  },
  {
   "cell_type": "code",
   "execution_count": 6,
   "metadata": {},
   "outputs": [
    {
     "name": "stdout",
     "output_type": "stream",
     "text": [
      "pvalue = 0.0\n"
     ]
    }
   ],
   "source": [
    "# Run Hypothesis test:\n",
    "bs_reps = np.empty(10000)\n",
    "\n",
    "n_reps = len(bs_reps)\n",
    "\n",
    "n_temps = len(temps)\n",
    "\n",
    "for i in range(n_reps):\n",
    "    bs_samples = np.random.choice(temps, size=n_temps)\n",
    "    bs_reps[i] = np.mean(bs_samples)\n",
    "    \n",
    "p = np.sum(bs_reps >= 98.6) / len(bs_reps)\n",
    "\n",
    "print('pvalue =', p)\n",
    "\n"
   ]
  },
  {
   "cell_type": "markdown",
   "metadata": {},
   "source": [
    "Since the p value is extremely low, we can be fairly certain that our sample mean is different from the true population mean. We can repeat the test using a t-statisitc to confirm our results "
   ]
  },
  {
   "cell_type": "code",
   "execution_count": 7,
   "metadata": {},
   "outputs": [
    {
     "name": "stdout",
     "output_type": "stream",
     "text": [
      "t = -5.45482329236\n",
      "pval of t: 2.41063204156e-07\n"
     ]
    }
   ],
   "source": [
    "# Run t-test\n",
    "t_p = stats.ttest_1samp(temps, 98.6)\n",
    "\n",
    "t = t_p[0]\n",
    "\n",
    "p = t_p[1]\n",
    "\n",
    "print('t =', t)\n",
    "\n",
    "Pval_t = stats.norm.sf(t)*2\n",
    "\n",
    "print('pval of t:', p)"
   ]
  },
  {
   "cell_type": "markdown",
   "metadata": {},
   "source": [
    "The p value of our t statistic further implies that our sample mean is different from our known population mean. We will test our hypothesis again using a z - statistic.\n"
   ]
  },
  {
   "cell_type": "code",
   "execution_count": 8,
   "metadata": {},
   "outputs": [
    {
     "name": "stdout",
     "output_type": "stream",
     "text": [
      "z-statistics = -5.47592520208\n",
      "p-value = 4.35231516588e-08\n"
     ]
    }
   ],
   "source": [
    "# Run z test\n",
    "SE = np.std(temps) / np.sqrt(len(temps))\n",
    "\n",
    "z = (np.mean(temps) - 98.6) / SE\n",
    "\n",
    "p = stats.norm.cdf(z) * 2\n",
    "\n",
    "print('z-statistics =', z)\n",
    "\n",
    "print('p-value =', p)"
   ]
  },
  {
   "cell_type": "markdown",
   "metadata": {},
   "source": [
    "Although the pvalue for the z-test is different, it still implies that we should reject the null hypothesis."
   ]
  },
  {
   "cell_type": "markdown",
   "metadata": {},
   "source": [
    "### Draw a small sample of size 10 from the data and repeat both tests.\n",
    "- Which one is the correct one to use?\n",
    "- What do you notice? What does this tell you about the difference in application of the t and z statistic?"
   ]
  },
  {
   "cell_type": "markdown",
   "metadata": {},
   "source": [
    "Since we only have a sample size of 10, the t statistic would not be appropriate to use for this set of data."
   ]
  },
  {
   "cell_type": "code",
   "execution_count": 9,
   "metadata": {},
   "outputs": [
    {
     "name": "stdout",
     "output_type": "stream",
     "text": [
      "[ 99.2  98.4  99.4  97.8  99.4  99.1  98.8  98.6  98.7  97.2]\n"
     ]
    }
   ],
   "source": [
    "# Drawing 10 samples from temps:\n",
    "s = np.random.choice(temps, size=10)\n",
    "l = len(s)\n",
    "print(s)"
   ]
  },
  {
   "cell_type": "code",
   "execution_count": 10,
   "metadata": {},
   "outputs": [
    {
     "name": "stdout",
     "output_type": "stream",
     "text": [
      "t = 0.267025873094\n",
      "pval of t: 0.795467087962\n"
     ]
    }
   ],
   "source": [
    "# performing t test:\n",
    "t_p = stats.ttest_1samp(s, 98.6)\n",
    "\n",
    "t = t_p[0]\n",
    "\n",
    "p = t_p[1]\n",
    "\n",
    "print('t =', t)\n",
    "\n",
    "Pval_t = stats.norm.sf(t)*2\n",
    "\n",
    "print('pval of t:', p)"
   ]
  },
  {
   "cell_type": "code",
   "execution_count": 11,
   "metadata": {},
   "outputs": [
    {
     "name": "stdout",
     "output_type": "stream",
     "text": [
      "z = 0.28146998439\n",
      "p = 4.35231516588e-08\n"
     ]
    }
   ],
   "source": [
    "# Perform z test\n",
    "zs = (np.mean(s) - 98.6) / (np.std(s) / np.sqrt(l))\n",
    "\n",
    "print('z =', zs)\n",
    "\n",
    "p_zs = stats.norm.sf(abs(z))*2\n",
    "\n",
    "print('p =',p_zs)"
   ]
  },
  {
   "cell_type": "markdown",
   "metadata": {},
   "source": [
    "The p values generated by the z-test and the t test are significantly different. Since our data set only contains 10 samples, it isn't appropriate to use the z statistic. When the sample size is less less than 30, the t statistic should be used"
   ]
  },
  {
   "cell_type": "markdown",
   "metadata": {},
   "source": [
    "### At what temperature should we consider someone's temperature to be \"abnormal\"?\n",
    "- Start by computing the margin of error and confidence interval."
   ]
  },
  {
   "cell_type": "code",
   "execution_count": 12,
   "metadata": {},
   "outputs": [
    {
     "name": "stdout",
     "output_type": "stream",
     "text": [
      "Mean of temps is: 98.24923076923078\n",
      "Margin of error: 0.125550964803\n"
     ]
    }
   ],
   "source": [
    "# Calculating Mean and Margin of Error\n",
    "t_mean = np.mean(temps)\n",
    "print('Mean of temps is:', t_mean)\n",
    "z = 1.96\n",
    "error = z * np.std(temps) / np.sqrt(n_temps)\n",
    "print('Margin of error:', error)"
   ]
  },
  {
   "cell_type": "markdown",
   "metadata": {},
   "source": [
    "The mean temperature of the sample data is 98.25 degrees. Based on the Margin of Error, we can expect the true population mean to differ by about 12.6 percent. "
   ]
  },
  {
   "cell_type": "code",
   "execution_count": 13,
   "metadata": {},
   "outputs": [
    {
     "name": "stdout",
     "output_type": "stream",
     "text": [
      "95% confidence interval: (98.123679804428193, 98.374781734033363)\n"
     ]
    }
   ],
   "source": [
    "# Calculate Confidence Interval \n",
    "UL = t_mean + error\n",
    "LL = t_mean - error\n",
    "\n",
    "Con_int = (LL, UL)\n",
    "\n",
    "\n",
    "print('95% confidence interval:', Con_int)"
   ]
  },
  {
   "cell_type": "markdown",
   "metadata": {},
   "source": [
    "We can say with 95% confidence that our calculated confidence interval 98.12 degrees and 98.37 degrees contains the true population mean. "
   ]
  },
  {
   "cell_type": "markdown",
   "metadata": {},
   "source": [
    "### Is there a significant difference between males and females in normal temperature?\n",
    "- What test did you use and why?\n",
    "- Write a story with your conclusion in the context of the original problem."
   ]
  },
  {
   "cell_type": "markdown",
   "metadata": {},
   "source": [
    "To test if there is a significant difference in normal male and female body temperature, I will run a two sample permutation test with difference of mean as the measure. A permutation test is appropriate to test if male and female body temperature have similar distributions and means. First i will visualize the data for EDA."
   ]
  },
  {
   "cell_type": "code",
   "execution_count": 14,
   "metadata": {
    "collapsed": true
   },
   "outputs": [],
   "source": [
    "# Filter out relevant data and calculate ecdf:\n",
    "temp_m = df[df['gender'] == 'M']['temperature']\n",
    "\n",
    "temp_f = df[df['gender'] == 'F']['temperature']\n",
    "\n",
    "x_temp_m, y_temp_m = ecdf(temp_m)\n",
    "\n",
    "x_temp_f, y_temp_f = ecdf(temp_f)"
   ]
  },
  {
   "cell_type": "code",
   "execution_count": 15,
   "metadata": {},
   "outputs": [
    {
     "data": {
      "image/png": "[encoded data removed]",
      "text/plain": [
       "<matplotlib.figure.Figure at 0x1e893d8e908>"
      ]
     },
     "metadata": {},
     "output_type": "display_data"
    }
   ],
   "source": [
    "# Generate Plot:\n",
    "_ = plt.plot(x_temp_m, y_temp_m, marker='.', linestyle='none', color='blue')\n",
    "_ = plt.plot(x_temp_f, y_temp_f, marker='.', linestyle='none', color='pink')\n",
    "_ = plt.xlabel('Temperature')\n",
    "_ = plt.ylabel('ecdf')\n",
    "_ = plt.legend(('Male', 'Female'), loc='lower right')\n",
    "_ = plt.title('Male and Female Body Temperature')\n",
    "\n",
    "plt.show()\n"
   ]
  },
  {
   "cell_type": "code",
   "execution_count": 16,
   "metadata": {
    "collapsed": true
   },
   "outputs": [],
   "source": [
    "# create function to calc diff of mean:\n",
    "def diff_of_mean(d1, d2):\n",
    "    dom = (np.mean(d1) - np.mean(d2))\n",
    "    return dom"
   ]
  },
  {
   "cell_type": "code",
   "execution_count": 17,
   "metadata": {},
   "outputs": [
    {
     "name": "stdout",
     "output_type": "stream",
     "text": [
      "Difference of sample mean: 0.289230769230727\n"
     ]
    }
   ],
   "source": [
    "# Calc diff of mean:\n",
    "dom = diff_of_mean(temp_f, temp_m)\n",
    "\n",
    "print('Difference of sample mean:', dom)"
   ]
  },
  {
   "cell_type": "code",
   "execution_count": 18,
   "metadata": {},
   "outputs": [
    {
     "name": "stdout",
     "output_type": "stream",
     "text": [
      "pval =  0.01213\n"
     ]
    }
   ],
   "source": [
    "# Run Hypothesis test:\n",
    "perm_replicates = np.empty(100000)\n",
    "\n",
    "size = len(perm_replicates)\n",
    "\n",
    "temps_combined  = np.concatenate((temp_m, temp_f))\n",
    "\n",
    "for i in range(size):\n",
    "    combined_perm_temp = np.random.permutation(temps_combined)\n",
    "    \n",
    "    mt_perms = combined_perm_temp[:len(temp_m)]\n",
    "    \n",
    "    ft_perms = combined_perm_temp[len(temp_m):]\n",
    "    \n",
    "    perm_replicates[i] = diff_of_mean(mt_perms, ft_perms)\n",
    "    \n",
    "pval = np.sum(perm_replicates >= dom ) / len(perm_replicates)\n",
    "\n",
    "print('pval = ', pval)\n",
    "        "
   ]
  },
  {
   "cell_type": "markdown",
   "metadata": {},
   "source": [
    "Since the p_value is smaller than .05, There is a difference in the distribution and means of male and female body temperature"
   ]
  },
  {
   "cell_type": "markdown",
   "metadata": {},
   "source": [
    "# Conclution:\n",
    "\n",
    "Carl Wunderlich proposed the mean human body temperature is 98.6 in 1868. However, the results from our analysis differs from his proposal. We found that we can be 95% confident that the true population mean lies within our calculated confidence interval of 98.12 degrees and  98.37 degrees. We also conluded that the difference of the mean for male and female body temperatures is statistically significant as well. "
   ]
  }
 ],
 "metadata": {
  "kernelspec": {
   "display_name": "Python 3",
   "language": "python",
   "name": "python3"
  },
  "language_info": {
   "codemirror_mode": {
    "name": "ipython",
    "version": 3
   },
   "file_extension": ".py",
   "mimetype": "text/x-python",
   "name": "python",
   "nbconvert_exporter": "python",
   "pygments_lexer": "ipython3",
   "version": "3.6.3"
  }
 },
 "nbformat": 4,
 "nbformat_minor": 2
}
